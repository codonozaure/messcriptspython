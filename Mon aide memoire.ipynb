{
 "cells": [
  {
   "cell_type": "code",
   "execution_count": 1,
   "metadata": {},
   "outputs": [],
   "source": [
    "import os"
   ]
  },
  {
   "cell_type": "code",
   "execution_count": 2,
   "metadata": {},
   "outputs": [
    {
     "data": {
      "text/plain": [
       "'/Users/william/Documents'"
      ]
     },
     "execution_count": 2,
     "metadata": {},
     "output_type": "execute_result"
    }
   ],
   "source": [
    "os.getcwd()"
   ]
  },
  {
   "cell_type": "code",
   "execution_count": 14,
   "metadata": {},
   "outputs": [
    {
     "data": {
      "text/plain": [
       "<_io.TextIOWrapper name='departements-fr.csv' mode='r' encoding='iso-8859-1'>"
      ]
     },
     "execution_count": 14,
     "metadata": {},
     "output_type": "execute_result"
    }
   ],
   "source": [
    "data= open('departements-fr.csv', 'r', encoding='iso-8859-1')\n",
    "data"
   ]
  },
  {
   "cell_type": "code",
   "execution_count": 15,
   "metadata": {},
   "outputs": [
    {
     "data": {
      "text/plain": [
       "\"Ain,643309\\nAisne,554040\\nAllier,353262\\nAlpes-de-Haute-Provence,166298\\nAlpes-Maritimes,1098785\\nArdèche,332051\\nArdennes,287775\\nAriège,158076\\nAube,316098\\nAude,375065\\nAveyron,289901\\nBas-Rhin,1131812\\nBouches-du-Rhône,2035475\\nCalvados,708407\\nCantal,152400\\nCharente,366787\\nCharente-Maritime,656046\\nCher,318590\\nCorrèze,249684\\nCorse-du-Sud,154100\\nCôte-d'Or,545001\\nCôtes-d'Armor,617413\\nCreuse,124948\\nDeux-Sèvres,384655\\nDordogne,428651\\nDoubs,549155\\nDrôme,514104\\nEssonne,1286908\\nEure,616076\\nEure-et-Loir,445083\\nFinistère,935393\\nGard,752382\\nGers,197988\\nGironde,1556663\\nGuadeloupe,406706\\nGuyane,254845\\nHaute-Corse,175499\\nHaute-Garonne,1344579\\nHaute-Loire,234078\\nHaute-Marne,186698\\nHautes-Alpes,145213\\nHaute-Saône,246022\\nHaute-Savoie,806447\\nHautes-Pyrénées,236577\\nHaute-Vienne,384708\\nHaut-Rhin,775941\\nHauts-de-Seine,1617484\\nHérault,1127333\\nIlle-et-Vilaine,1060051\\nIndre,232802\\nIndre-et-Loire,619004\\nIsère,1271938\\nJura,270826\\nLa Réunion,541487\\nLandes,414090\\nLoire,774262\\nLoire-Atlantique,1382766\\nLoiret,688098\\nLoir-et-Cher,344121\\nLot,180016\\nLot-et-Garonne,343198\\nLozère,80423\\nMaine-et-Loire,829156\\nManche,518322\\nMarne,584297\\nMartinique,390252\\nMayenne,317716\\nMeurthe-et-Moselle,746687\\nMeuse,197763\\nMorbihan,764338\\nMoselle,1065894\\nNièvre,221048\\nNord,2640622\\nOise,838646\\nOrne,297109\\nParis,2243739\\nPas-de-Calais,1497668\\nPuy-de-Dôme,661248\\nPyrénées-Atlantiques,688451\\nPyrénées-Orientales,474842\\nRhône,1833002\\nSaône-et-Loire,574229\\nSarthe,583961\\nSavoie,440777\\nSeine-et-Marne,1400477\\nSeine-Maritime,1284107\\nSeine-Saint-Denis,1582139\\nSomme,583641\\nTarn,396341\\nTarn-et-Garonne,258696\\nTerritoire de Belfort,147647\\nVal-de-Marne,1377511\\nVal-d'Oise,1221946\\nVar,1055745\\nVaucluse,566592\\nVendée,681469\\nVienne,444347\\nVosges,386978\\nYonne,352433\\nYvelines,1449398\""
      ]
     },
     "execution_count": 15,
     "metadata": {},
     "output_type": "execute_result"
    }
   ],
   "source": [
    "file= data.read()\n",
    "file"
   ]
  },
  {
   "cell_type": "code",
   "execution_count": 20,
   "metadata": {},
   "outputs": [
    {
     "data": {
      "text/plain": [
       "['Ain,643309',\n",
       " 'Aisne,554040',\n",
       " 'Allier,353262',\n",
       " 'Alpes-de-Haute-Provence,166298',\n",
       " 'Alpes-Maritimes,1098785']"
      ]
     },
     "execution_count": 20,
     "metadata": {},
     "output_type": "execute_result"
    }
   ],
   "source": [
    "split_list= file.split('\\n')\n",
    "split_list[0:5]"
   ]
  },
  {
   "cell_type": "code",
   "execution_count": 21,
   "metadata": {},
   "outputs": [
    {
     "name": "stdout",
     "output_type": "stream",
     "text": [
      "Ain,643309\n",
      "Aisne,554040\n",
      "Allier,353262\n",
      "Alpes-de-Haute-Provence,166298\n",
      "Alpes-Maritimes,1098785\n",
      "Ardèche,332051\n",
      "Ardennes,287775\n",
      "Ariège,158076\n",
      "Aube,316098\n",
      "Aude,375065\n"
     ]
    }
   ],
   "source": [
    "ten_rows= split_list [0:10]\n",
    "for item in ten_rows:\n",
    "    print(item)"
   ]
  },
  {
   "cell_type": "code",
   "execution_count": 24,
   "metadata": {},
   "outputs": [
    {
     "name": "stdout",
     "output_type": "stream",
     "text": [
      "[['Ain', '643309'], ['Aisne', '554040'], ['Allier', '353262'], ['Alpes-de-Haute-Provence', '166298'], ['Alpes-Maritimes', '1098785']]\n"
     ]
    }
   ],
   "source": [
    "final_data= []\n",
    "for item in ten_rows:\n",
    "    split_data=item.split(',')\n",
    "    final_data.append(split_data)\n",
    "print(final_data[0:5])"
   ]
  },
  {
   "cell_type": "code",
   "execution_count": 26,
   "metadata": {},
   "outputs": [
    {
     "name": "stdout",
     "output_type": "stream",
     "text": [
      "[['Ain', '643309'], ['Aisne', '554040'], ['Allier', '353262'], ['Alpes-de-Haute-Provence', '166298'], ['Alpes-Maritimes', '1098785'], ['Ardèche', '332051'], ['Ardennes', '287775'], ['Ariège', '158076'], ['Aube', '316098'], ['Aude', '375065'], ['Aveyron', '289901'], ['Bas-Rhin', '1131812'], ['Bouches-du-Rhône', '2035475'], ['Calvados', '708407'], ['Cantal', '152400'], ['Charente', '366787'], ['Charente-Maritime', '656046'], ['Cher', '318590'], ['Corrèze', '249684'], ['Corse-du-Sud', '154100'], [\"Côte-d'Or\", '545001'], [\"Côtes-d'Armor\", '617413'], ['Creuse', '124948'], ['Deux-Sèvres', '384655'], ['Dordogne', '428651'], ['Doubs', '549155'], ['Drôme', '514104'], ['Essonne', '1286908'], ['Eure', '616076'], ['Eure-et-Loir', '445083'], ['Finistère', '935393'], ['Gard', '752382'], ['Gers', '197988'], ['Gironde', '1556663'], ['Guadeloupe', '406706'], ['Guyane', '254845'], ['Haute-Corse', '175499'], ['Haute-Garonne', '1344579'], ['Haute-Loire', '234078'], ['Haute-Marne', '186698'], ['Hautes-Alpes', '145213'], ['Haute-Saône', '246022'], ['Haute-Savoie', '806447'], ['Hautes-Pyrénées', '236577'], ['Haute-Vienne', '384708'], ['Haut-Rhin', '775941'], ['Hauts-de-Seine', '1617484'], ['Hérault', '1127333'], ['Ille-et-Vilaine', '1060051'], ['Indre', '232802'], ['Indre-et-Loire', '619004'], ['Isère', '1271938'], ['Jura', '270826'], ['La Réunion', '541487'], ['Landes', '414090'], ['Loire', '774262'], ['Loire-Atlantique', '1382766'], ['Loiret', '688098'], ['Loir-et-Cher', '344121'], ['Lot', '180016'], ['Lot-et-Garonne', '343198'], ['Lozère', '80423'], ['Maine-et-Loire', '829156'], ['Manche', '518322'], ['Marne', '584297'], ['Martinique', '390252'], ['Mayenne', '317716'], ['Meurthe-et-Moselle', '746687'], ['Meuse', '197763'], ['Morbihan', '764338'], ['Moselle', '1065894'], ['Nièvre', '221048'], ['Nord', '2640622'], ['Oise', '838646'], ['Orne', '297109'], ['Paris', '2243739'], ['Pas-de-Calais', '1497668'], ['Puy-de-Dôme', '661248'], ['Pyrénées-Atlantiques', '688451'], ['Pyrénées-Orientales', '474842'], ['Rhône', '1833002'], ['Saône-et-Loire', '574229'], ['Sarthe', '583961'], ['Savoie', '440777'], ['Seine-et-Marne', '1400477'], ['Seine-Maritime', '1284107'], ['Seine-Saint-Denis', '1582139'], ['Somme', '583641'], ['Tarn', '396341'], ['Tarn-et-Garonne', '258696'], ['Territoire de Belfort', '147647'], ['Val-de-Marne', '1377511'], [\"Val-d'Oise\", '1221946'], ['Var', '1055745'], ['Vaucluse', '566592'], ['Vendée', '681469'], ['Vienne', '444347'], ['Vosges', '386978'], ['Yonne', '352433'], ['Yvelines', '1449398']]\n"
     ]
    }
   ],
   "source": [
    "departements=[]\n",
    "for item in split_list:\n",
    "    split_dep= item.split(',')\n",
    "    departements.append(split_dep)\n",
    "print(departements)"
   ]
  },
  {
   "cell_type": "code",
   "execution_count": 27,
   "metadata": {},
   "outputs": [
    {
     "name": "stdout",
     "output_type": "stream",
     "text": [
      "['Ain', 'Aisne', 'Allier', 'Alpes-de-Haute-Provence', 'Alpes-Maritimes', 'Ardèche', 'Ardennes', 'Ariège', 'Aube', 'Aude', 'Aveyron', 'Bas-Rhin', 'Bouches-du-Rhône', 'Calvados', 'Cantal', 'Charente', 'Charente-Maritime', 'Cher', 'Corrèze', 'Corse-du-Sud', \"Côte-d'Or\", \"Côtes-d'Armor\", 'Creuse', 'Deux-Sèvres', 'Dordogne', 'Doubs', 'Drôme', 'Essonne', 'Eure', 'Eure-et-Loir', 'Finistère', 'Gard', 'Gers', 'Gironde', 'Guadeloupe', 'Guyane', 'Haute-Corse', 'Haute-Garonne', 'Haute-Loire', 'Haute-Marne', 'Hautes-Alpes', 'Haute-Saône', 'Haute-Savoie', 'Hautes-Pyrénées', 'Haute-Vienne', 'Haut-Rhin', 'Hauts-de-Seine', 'Hérault', 'Ille-et-Vilaine', 'Indre', 'Indre-et-Loire', 'Isère', 'Jura', 'La Réunion', 'Landes', 'Loire', 'Loire-Atlantique', 'Loiret', 'Loir-et-Cher', 'Lot', 'Lot-et-Garonne', 'Lozère', 'Maine-et-Loire', 'Manche', 'Marne', 'Martinique', 'Mayenne', 'Meurthe-et-Moselle', 'Meuse', 'Morbihan', 'Moselle', 'Nièvre', 'Nord', 'Oise', 'Orne', 'Paris', 'Pas-de-Calais', 'Puy-de-Dôme', 'Pyrénées-Atlantiques', 'Pyrénées-Orientales', 'Rhône', 'Saône-et-Loire', 'Sarthe', 'Savoie', 'Seine-et-Marne', 'Seine-Maritime', 'Seine-Saint-Denis', 'Somme', 'Tarn', 'Tarn-et-Garonne', 'Territoire de Belfort', 'Val-de-Marne', \"Val-d'Oise\", 'Var', 'Vaucluse', 'Vendée', 'Vienne', 'Vosges', 'Yonne', 'Yvelines']\n"
     ]
    }
   ],
   "source": [
    "departement_list=[]\n",
    "for item in departements:\n",
    "    dep= item[0]\n",
    "    departement_list.append(dep)\n",
    "print(departement_list)"
   ]
  },
  {
   "cell_type": "code",
   "execution_count": null,
   "metadata": {},
   "outputs": [],
   "source": []
  }
 ],
 "metadata": {
  "kernelspec": {
   "display_name": "Python 3",
   "language": "python",
   "name": "python3"
  },
  "language_info": {
   "codemirror_mode": {
    "name": "ipython",
    "version": 3
   },
   "file_extension": ".py",
   "mimetype": "text/x-python",
   "name": "python",
   "nbconvert_exporter": "python",
   "pygments_lexer": "ipython3",
   "version": "3.6.5"
  },
  "varInspector": {
   "cols": {
    "lenName": 16,
    "lenType": 16,
    "lenVar": 40
   },
   "kernels_config": {
    "python": {
     "delete_cmd_postfix": "",
     "delete_cmd_prefix": "del ",
     "library": "var_list.py",
     "varRefreshCmd": "print(var_dic_list())"
    },
    "r": {
     "delete_cmd_postfix": ") ",
     "delete_cmd_prefix": "rm(",
     "library": "var_list.r",
     "varRefreshCmd": "cat(var_dic_list()) "
    }
   },
   "types_to_exclude": [
    "module",
    "function",
    "builtin_function_or_method",
    "instance",
    "_Feature"
   ],
   "window_display": false
  }
 },
 "nbformat": 4,
 "nbformat_minor": 2
}
