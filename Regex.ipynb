{
 "cells": [
  {
   "cell_type": "markdown",
   "metadata": {},
   "source": [
    "# Brief Project : Regex and Search Pattern"
   ]
  },
  {
   "cell_type": "markdown",
   "metadata": {},
   "source": [
    "### Compétence : utiliser et maîtriser les expressions régulières dans les scripts Python (optique Data)."
   ]
  },
  {
   "cell_type": "markdown",
   "metadata": {},
   "source": [
    "![alt text](http://www.codercaste.com/wp-content/uploads/2013/01/regex.gif)"
   ]
  },
  {
   "cell_type": "markdown",
   "metadata": {},
   "source": [
    "## Quelques ressources utiles : "
   ]
  },
  {
   "cell_type": "markdown",
   "metadata": {},
   "source": [
    "http://www.rexegg.com/regex-quickstart.html  \n",
    "http://www.dreambank.net/regex.html#examples  \n",
    "https://pythex.org/ (Pythex is a real-time regular expression editor for Python, a quick way to test your regular expressions.)   \n",
    "https://regex101.com/   \n",
    "(Regex101 is online regex editor and debugger. Regex101 allows you to create, debug, test and have your expressions explained for PHP, PCRE, Python, Golang and JavaScript. The website also features a community where you can share useful expressions.)\n"
   ]
  },
  {
   "cell_type": "markdown",
   "metadata": {},
   "source": [
    "***\n",
    "## Avant de commencer "
   ]
  },
  {
   "cell_type": "markdown",
   "metadata": {},
   "source": [
    "**Q : Quel est le rôle d'un suffixe r devant une chaîne de caractère ?**   "
   ]
  },
  {
   "cell_type": "code",
   "execution_count": 1,
   "metadata": {},
   "outputs": [
    {
     "name": "stdout",
     "output_type": "stream",
     "text": [
      "\t- Un pattern (motif de recherche) est 1str.\n",
      "\t- Tu le mettra tjrs entre guillemets et Tu le précédera d'1 r\n"
     ]
    }
   ],
   "source": [
    "print(\"\\t- Un pattern (motif de recherche) est 1str.\\n\\t- Tu le mettra tjrs entre guillemets et Tu le précédera d'1 r\")"
   ]
  },
  {
   "cell_type": "code",
   "execution_count": 2,
   "metadata": {
    "scrolled": true
   },
   "outputs": [
    {
     "name": "stdout",
     "output_type": "stream",
     "text": [
      "\\t- Un pattern (motif de recherche) est 1str.\\n\\t- Tu le mettra tjrs entre guillemets et Tu le précédera d'1 r\n"
     ]
    }
   ],
   "source": [
    "print (r\"\\t- Un pattern (motif de recherche) est 1str.\\n\\t- Tu le mettra tjrs entre guillemets et Tu le précédera d'1 r\")"
   ]
  },
  {
   "cell_type": "markdown",
   "metadata": {},
   "source": [
    "**Q : Les pièges de la méthode strip() ? Vs avez déjà utilisé la méthode strip(), celle-ci supp la chaîne de caractères non désirée aux extrémités (lstrip() et rstrip() resp. : left et right).**"
   ]
  },
  {
   "cell_type": "code",
   "execution_count": 3,
   "metadata": {},
   "outputs": [
    {
     "name": "stdout",
     "output_type": "stream",
     "text": [
      "test1\r",
      "test2\n"
     ]
    }
   ],
   "source": [
    "#Qu'est-ce qu'un whitespace ? On pense que c'est juste l'espace mais ds Python c plus que ça ! La preuve : \n",
    "'\\t\\n\\r test '.strip()\n",
    "import string\n",
    "string.whitespace\n",
    "#Q : Qu'est-ce que le \\r ? \n",
    "print('test1\\rtest2')"
   ]
  },
  {
   "cell_type": "code",
   "execution_count": 4,
   "metadata": {},
   "outputs": [
    {
     "data": {
      "text/plain": [
       "'test_strip'"
      ]
     },
     "execution_count": 4,
     "metadata": {},
     "output_type": "execute_result"
    }
   ],
   "source": [
    "#Supprimer '[' et ']' ds la str \"[test_strip]\" ?\n",
    "'[test_strip]'.strip('[')  #ça fonctionne pr le '[' (à gauche).\n",
    "'[test_strip]'.strip(']')  #ça fonctionne pr le ']' (à droite). \n",
    "'[test_strip]'.strip('[]') #ça fonctionne malgré le fait que la str n'est pas de la forme suivante :  \n",
    "'[]test_strip[]'.strip('[]')\n"
   ]
  },
  {
   "cell_type": "code",
   "execution_count": 5,
   "metadata": {},
   "outputs": [
    {
     "data": {
      "text/plain": [
       "'test'"
      ]
     },
     "execution_count": 5,
     "metadata": {},
     "output_type": "execute_result"
    }
   ],
   "source": [
    "#Un 2è exemple pr se convaincre : \n",
    "\"* **  * test_strip \".strip('* ') \n",
    "# '**  * test ' # comportement attendu mais faux\n",
    "\"* **  * test \".strip('* ')\n",
    "'test'  # comportement réel"
   ]
  },
  {
   "cell_type": "code",
   "execution_count": 6,
   "metadata": {},
   "outputs": [
    {
     "data": {
      "text/plain": [
       "'est_strip'"
      ]
     },
     "execution_count": 6,
     "metadata": {},
     "output_type": "execute_result"
    }
   ],
   "source": [
    "#Un dernier exemple (dangereux) :  \n",
    "#\"* **  * test_strip \".strip('* t')\n",
    "#\"* **  * test_strip \".strip('t* ') \n",
    "\"* **  * test_strip \".strip('*t ') "
   ]
  },
  {
   "cell_type": "markdown",
   "metadata": {},
   "source": [
    "***\n",
    "## Le module regex"
   ]
  },
  {
   "cell_type": "code",
   "execution_count": 7,
   "metadata": {},
   "outputs": [],
   "source": [
    "import re"
   ]
  },
  {
   "cell_type": "markdown",
   "metadata": {},
   "source": [
    "- Il existe deux manières d’utiliser les regex :\n",
    "    - La première consiste à appeler la fonction avec en 1er paramètre le motif, et en 2è paramètre la chaine à analyser.\n",
    "    - La seconde manière consiste à compiler la regex, et à ensuite utiliser les méthodes de l’objet crée pour analyser une chaine passée en argument. Cette méthode permet d’accélérer le traitement lorsqu’une regex est utilisée plusieurs fois.  "
   ]
  },
  {
   "cell_type": "code",
   "execution_count": 38,
   "metadata": {},
   "outputs": [
    {
     "ename": "NameError",
     "evalue": "name 'pattern' is not defined",
     "output_type": "error",
     "traceback": [
      "\u001b[0;31m---------------------------------------------------------------------------\u001b[0m",
      "\u001b[0;31mNameError\u001b[0m                                 Traceback (most recent call last)",
      "\u001b[0;32m<ipython-input-38-7bd025f45965>\u001b[0m in \u001b[0;36m<module>\u001b[0;34m()\u001b[0m\n\u001b[0;32m----> 1\u001b[0;31m \u001b[0mre\u001b[0m\u001b[0;34m.\u001b[0m\u001b[0msearch\u001b[0m\u001b[0;34m(\u001b[0m\u001b[0mpattern\u001b[0m\u001b[0;34m,\u001b[0m \u001b[0mstring\u001b[0m\u001b[0;34m)\u001b[0m \u001b[0;31m#pattern est écrite entre ''\u001b[0m\u001b[0;34m\u001b[0m\u001b[0m\n\u001b[0m\u001b[1;32m      2\u001b[0m \u001b[0;31m#Chercher le pattern dans le string passé et retourner un MatchObject si des correspondances sont trouvées,\u001b[0m\u001b[0;34m\u001b[0m\u001b[0;34m\u001b[0m\u001b[0m\n\u001b[1;32m      3\u001b[0m \u001b[0;31m#sinon retourner None.\u001b[0m\u001b[0;34m\u001b[0m\u001b[0;34m\u001b[0m\u001b[0m\n\u001b[1;32m      4\u001b[0m \u001b[0mre\u001b[0m\u001b[0;34m.\u001b[0m\u001b[0msplit\u001b[0m\u001b[0;34m(\u001b[0m\u001b[0mpattern\u001b[0m\u001b[0;34m,\u001b[0m \u001b[0mstring\u001b[0m\u001b[0;34m)\u001b[0m\u001b[0;34m\u001b[0m\u001b[0m\n\u001b[1;32m      5\u001b[0m \u001b[0;31m#Découpe le string string selon les occurences du pattren.\u001b[0m\u001b[0;34m\u001b[0m\u001b[0;34m\u001b[0m\u001b[0m\n",
      "\u001b[0;31mNameError\u001b[0m: name 'pattern' is not defined"
     ]
    }
   ],
   "source": [
    "re.search(pattern, string) #pattern est écrite entre ''\n",
    "#Chercher le pattern dans le string passé et retourner un MatchObject si des correspondances sont trouvées,\n",
    "#sinon retourner None.\n",
    "re.split(pattern, string)\n",
    "#Découpe le string string selon les occurences du pattren.\n",
    "\n",
    "result = re.match(pattern, string)\n",
    "#Est équivalente à \n",
    "prog = re.compile(pattern)\n",
    "result = prog.match(string)"
   ]
  },
  {
   "cell_type": "code",
   "execution_count": null,
   "metadata": {},
   "outputs": [],
   "source": []
  },
  {
   "cell_type": "markdown",
   "metadata": {},
   "source": [
    "***\n",
    "**Les caractères spéciaux (en vrac, liste non exhaustive)**   "
   ]
  },
  {
   "cell_type": "markdown",
   "metadata": {},
   "source": [
    "Caractère | Signification   \n",
    ":-------------------------:|:-------------------------:\n",
    "**.**|**Désigne n’importe quel caractère.**\n",
    "**^**|**Indique que le début de la chaine doit correspondre (c’est à dire qu’une chaine ne pourra correspondre que si elle commence de la même manière, qu’elle est précédée d’espaces ou d’un saut de ligne).**\n",
    "**$**|**Indique que la fin de la chaine doit correspondre (la même remarque que précédemment s’applique, mais au niveau de la fin).**\n",
    "**{n}**|**Indique que le caractère précédent doit être répété n fois.**\n",
    "**{n,m}**|**Indique que le caractère précédent doit être répété entre n et m fois.**\n",
    "** * **|**Le caractère précédent peut être répété aucune ou plusieurs fois. Par exemple, à ab* peuvent correspondre : a, ab, ou a suivi d’un nombre quelconque de b.**\n",
    "**+**|**Le caractère précédent peut être répété une ou plusieurs fois. Par exemple, à ab+ correspond un a suivi d’un nombre quelconque de b.**\n",
    "**?**|**Le caractère précédent peut être répété zéro ou une fois. Par exemple, à ab? correspondent ab et a.**"
   ]
  },
  {
   "cell_type": "markdown",
   "metadata": {},
   "source": [
    "Autres cacartères spéciaux très utiles |Signification    \n",
    ":-------------------------:|:------------------------- :\n",
    "**\\w** | **il correspond à tout caractère alphabétique, c’est à dire qu’il est équivalent à [a-zA-Z].**\n",
    "**\\W** | **il correspond à tout ce qui n’est pas un caractère alphabétique.**\n",
    "**\\d** | **il correspond à tout caractère numérique, c’est à dire qu’il est équivalent à [0-9].**\n",
    "**\\D** | **il correspond à tout ce qui n’est pas un caractère numérique.**"
   ]
  },
  {
   "cell_type": "markdown",
   "metadata": {},
   "source": [
    "***\n",
    "**Q : Compléter le script suivant pr vérifier que la chaîne saisie est bien celle d’un nombre (méthode input() : c'est à vs de saisir et de tester) ?** "
   ]
  },
  {
   "cell_type": "markdown",
   "metadata": {},
   "source": [
    "**   Remarque :  **  \n",
    "-    *Pr la réponse, vs utiliserez successivement les méthodes spécifiques aux chaînes de caractères (split, strip, islower,...), la méthode regex sans compilation et la méthode regex avec compilation.*  \n",
    "    ** N.B : Ceci est aussi valable pr les questions qui suiveront ** (lorsq c'est possible évidemment pr les les méthodes spécifiques aux chaînes de caractères).  \n",
    "- *L'objectif est de voir les diff façon de le faire. Surtout, qd la méthode regex devient pertinente.*  \n",
    "    ** Je vous fournis la correction de la 1è Q (comme modèle) :  **"
   ]
  },
  {
   "cell_type": "code",
   "execution_count": null,
   "metadata": {},
   "outputs": [],
   "source": [
    "nb = input('Votre nombre : ') # ex : 12, 12a\n",
    "#Q : Est-ce que je peux me limiter à une méthode str ?  A quoi sert ces diff méthodes de str ? \n",
    "print(nb.isalnum()) #True (mais ça marche aussi pr 12a) : alphanumeric\n",
    "print(nb.isalpha()) #False\n",
    "print(nb.isdecimal())\n",
    "print(nb.isdigit())\n",
    "\n",
    "# Je passe par 2méthodes : re.match() et re.search()\n",
    "\n",
    "# : Avec re (1è façon)\n",
    "if (re.match(r\"^[0-9]+$\", nb)): \n",
    "    print(\"La chaine saisie est bien un nombre ...\")\n",
    "else:\n",
    "    print(\"La chaine saisie n'est pas un nombre ...\")\n",
    "    \n",
    "# Explication de la regex :     \n",
    "    # ^ : Marque le début de la chaine, la ligne...\n",
    "    \n",
    "    # [0-9] : Un chiffre entre 0 et 9. Vous pouvez préciser entre crochets plusieurs caractères.\n",
    "    # Par exemple, si vous écrivez [abcd], cela signifie : l'une des lettres parmi a,b,c et d.\n",
    "    # L'expression [A-Z] signifie « une lettre majuscule ». \n",
    "    # L'expression [A-Za-z0-9] signifie « une lettre majuscule ou minuscule, ou un chiffre ».\n",
    "    \n",
    "    # + : Présence de l’ensemble de caractères qui précède entre 1 fois et l’infini.\n",
    "    # Par exemple, à ab+ correspond un a suivi d’un nombre quelconque de b.\n",
    "    \n",
    "    # $ : Le symbole $ veut dire que l'expression doit être à la fin de la chaîne. \n",
    "    # Astuce : Si vs placez l'expression recherhée entre ^ et $, cela signifie que \n",
    "    # la chaîne dans laquelle on recherche ne doit rien contenir d'autre que l'expression.\n",
    "\n",
    "#Q : Avec re.compile (2è façon)\n",
    "prog = re.compile(r\"^[0-9]+$\")\n",
    "if not prog.search(nb) is None : \n",
    "    print(\"La chaine saisie est bien un nombre ...\")\n",
    "else : \n",
    "    print(\"La chaine saisie n'est pas un nombre ...\")"
   ]
  },
  {
   "cell_type": "code",
   "execution_count": null,
   "metadata": {},
   "outputs": [],
   "source": [
    "import re\n",
    "CORPUS= \"21 scouts and 3 tanks fought against 4,003 protestors, so the manager was not 100.00% happy.\"\n",
    "re.findall(r\"^\\d+[\\,]\\d*$\", CORPUS)"
   ]
  },
  {
   "cell_type": "markdown",
   "metadata": {},
   "source": [
    "***\n",
    "**Q : Trouver tous les adverbes en -ment ?**   "
   ]
  },
  {
   "cell_type": "code",
   "execution_count": null,
   "metadata": {},
   "outputs": [],
   "source": [
    "import re\n",
    "text = \"Il s'était prudemment déguisé mais fut rapidement capturé par la police.\"\n",
    "re.findall(r\"^[a-z]+ ment$\",text)\n"
   ]
  },
  {
   "cell_type": "code",
   "execution_count": null,
   "metadata": {},
   "outputs": [],
   "source": []
  },
  {
   "cell_type": "markdown",
   "metadata": {},
   "source": [
    "***\n",
    "**Q : Une plaque d’immatriculation est composée de 2 lettres majuscules, un tiret ('-'), 3 chiffres, un tiret ('-') et enfin de 2 lettres majuscules. Ecrire 1script pr vérifier qu'une chaîne saisie est bien celle d’une plaque d’immatriculation (méthode input() : c'est à vs de saisir et de tester) ?**   "
   ]
  },
  {
   "cell_type": "code",
   "execution_count": null,
   "metadata": {},
   "outputs": [],
   "source": [
    "immatriculation= input('votre immatriculation: ')\n",
    "if re.match(r'[A-Z]{2}-[0-9]{3}-[A-Z]{2}', immatriculation):\n",
    "    print ('merci de l avoir saisi correctement')\n",
    "else:\n",
    "    print('l immatriculation n est pas correct')\n",
    "    \n",
    "    "
   ]
  },
  {
   "cell_type": "markdown",
   "metadata": {},
   "source": [
    "***\n",
    "**Q : Une adresse IPv4 est composée de 4 nombres entre 0 et 255 séparés par des '.' ? Ecrire 1script pr vérifier qu'une chaîne saisie est bien celle d’une adresse IPv4 (méthode input() : c'est à vs de saisir et de tester) ?**   "
   ]
  },
  {
   "cell_type": "code",
   "execution_count": null,
   "metadata": {},
   "outputs": [],
   "source": [
    "while True:\n",
    "    IP= input('entrez votre adresse IP: ')\n",
    "    if re.match(r\"^(([0-9]|[1-9][0-9]|1[0-9]{2}|2[0-4][0-9]|25[0-5])\\.){3}([0-9]|[1-9][0-9]|1[0-9]{2}|2[0-4][0-9]|25[0-5])$\",IP):\n",
    "        print('merci d avoir saisi la bonne adresse IP')\n",
    "        break\n",
    "    else:\n",
    "        print('l adresse saisi est incorrecte')"
   ]
  },
  {
   "cell_type": "markdown",
   "metadata": {},
   "source": [
    "***\n",
    "## Chaîne de valeur de création d'un compte sur un site\n",
    "\n",
    "Un outil ludique pr travailler sur Python : pour suivre pas à pas l’exécution d’un programme (petit)  \n",
    "\n",
    "http://pythonTutor.com\n",
    "\n",
    "**Un email est composé de caractères alphanumériques suivis de @ et d’un nom de domaine.**\n",
    "- Q : Ecrire 1script qui vérifie que la chaîne saisie par un User est bien celle d’un email, sinon lui demander de resaisir à nouveau (jusqu'à obtenir un email valide) ?    \n",
    "- Q : Augmenter le script pour taper le mot de passe (mdp, évidemment si l'email est valide où la seule spécifité du mdp est de contenir au moins 4caractères) ?\n",
    "\n",
    "** Suite à un Pb de hacking des mdp, la direction SI a mis en place 1politique de sécurité (renforcement des mdp).  **  \n",
    "- Q : Le mot de passe doit maintenant contenir au moins 6 caractères : au moins une lettre en miniscule ET au moins une lettre en majuscule Et au moins un chiffre Et au moins un charactére spécial (parmi $#@).\n",
    "\n",
    "![alt text](https://d2d3qesrx8xj6s.cloudfront.net/img/screenshots/f84ff6136551983c1eaa01c1d80d2e8439b3087c.jpg)\n",
    "\n",
    "\n",
    "- Q : Augmenter le script pour qu'il puisse donner automtiquement l'identifiant. Par ex : durant@nomdomaine.com => identifiant = durant. Le contexte : envoi de mails de confirmation qui comporteraient les identifiants (pr valider l'inscription, ex Bonjour M. Durant, Félicitation ! Votre inscri est confirmé.) ? **   \n",
    "- Q Optionnel : Extraire le nom de domaine de l'email (yahoo.fr ; outlook.com,...) "
   ]
  },
  {
   "cell_type": "code",
   "execution_count": null,
   "metadata": {},
   "outputs": [],
   "source": [
    "while True :\n",
    "    email= input('entrer votre email: ')\n",
    "    if re.match(r'^[A-Za-z0-9]+@\\w+',email):\n",
    "        print('mail valide')\n",
    "        break\n",
    "    else:\n",
    "        print('mail non valide, veuillez resaisir')\n",
    "\n"
   ]
  },
  {
   "cell_type": "code",
   "execution_count": null,
   "metadata": {},
   "outputs": [],
   "source": [
    "import re\n",
    "while True:\n",
    "    mdp=input('saisir un MDP: ')\n",
    "    if re.match(r'[A-Za-z0-9]{4,}', mdp):\n",
    "        print('vous etes connecté')\n",
    "        break\n",
    "    else:\n",
    "        print('le mot de passe est incorrect')"
   ]
  },
  {
   "cell_type": "code",
   "execution_count": null,
   "metadata": {},
   "outputs": [],
   "source": [
    "import re\n",
    "def checkpasswordv2():\n",
    "    while True:\n",
    "        pwd = input('Entre votre mot de passe sur 6 caractères : ')\n",
    "        if re.match(r\"^(?=.*[A-Z])(?=.*[a-z])(?=.*\\d)(?=.*[$#@]).{6,}$\", pwd):\n",
    "            print(\"mot de passe validé\")\n",
    "            return (pwd)\n",
    "        else:\n",
    "            print(\"Mot de passe invalide\\n\")\n",
    "checkpasswordv2()"
   ]
  },
  {
   "cell_type": "code",
   "execution_count": null,
   "metadata": {},
   "outputs": [],
   "source": [
    "def checkpasswordv3():\n",
    "      while True:\n",
    "        pwd = input('Entre votre mot de passe sur 6 caractères : ')\n",
    "        if re.match(r\"^[A-Z]{6,}$\", pwd) or re.match(r\"^[a-z]{6,}$\", pwd) or re.match(r\"^.{6}$\", pwd) :\n",
    "            if re.match(r\"^[0-9]{6}$\", pwd):\n",
    "                nbr_add=0\n",
    "                start = int(pwd[0])\n",
    "                for i in pwd[1:]:\n",
    "                    if (int(i)==start+1):\n",
    "                        nbr_add+=1\n",
    "                        start+=1\n",
    "                if nbr_add==5:\n",
    "                    print('Une suite de chiffre ne peut constituer un mot de passe')\n",
    "                else:\n",
    "                    print(\"Niveau de sécurité faible\")\n",
    "                    return (pwd)\n",
    "            else:\n",
    "                print(\"Niveau de sécurité faible\")\n",
    "                return (pwd)\n",
    "        \n",
    "        elif re.match(r\"^(?=.*[a-z])(?=.*[A-Z])(?=.*\\d).{7,}$\", pwd):\n",
    "            print(\"Niveau de sécurité élevé\")\n",
    "            return(pwd)\n",
    "        elif re.match(r\"^(?=.*[a-z])(?=.*[A-Z]).{7,}$\", pwd) or re.match(r\"^(?=.*[a-z])(?=.*\\d).{7,}$\", pwd) or re.match(r\"^(?=.*[A-Z])(?=.*\\d).{7,}$\", pwd):\n",
    "            print(\"Niveau de sécurité moyen\")\n",
    "            return(pwd)\n",
    "        "
   ]
  },
  {
   "cell_type": "code",
   "execution_count": null,
   "metadata": {},
   "outputs": [],
   "source": [
    "#fonction finale email/mdp\n",
    "import re\n",
    "def checkmail():\n",
    "    while True:  \n",
    "        mail = input('Entrez votre adresse mail : ')\n",
    "        if (re.match(r\"[a-zA-Z0-9-_.]+@[a-zA-Z0-9-_]+\\.[a-zA-Z]{2,4}$\", mail)):\n",
    "            print(\"Adresse mail validée = {}\".format(mail))\n",
    "            return (re.split('@', mail))\n",
    "        else: \n",
    "            print(\"Adresse mail invalide\")\n",
    "#Le mot de passe doit maintenant contenir au moins 6 caractères : au moins une lettre en miniscule ET au moins une\n",
    "#lettre en majuscule Et au moins un chiffre Et au moins un charactére spécial (parmi $#@).\n",
    "import re\n",
    "def checkpasswordv2():\n",
    "    while True:\n",
    "        pwd = input('Entre votre mot de passe sur 6 caractères : ')\n",
    "        if re.match(r\"^(?=.*[A-Z])(?=.*[a-z])(?=.*\\d)(?=.*[$#@]).{6,}$\", pwd):\n",
    "            print(\"mot de passe validé\")\n",
    "            return (pwd)\n",
    "        else:\n",
    "            print(\"Mot de passe invalide\\n\")  \n",
    "\n",
    "def mailpwdvalid():\n",
    "    tempo = checkmail()\n",
    "    checkpasswordv2()\n",
    "    print(tempo[0])"
   ]
  },
  {
   "cell_type": "code",
   "execution_count": 5,
   "metadata": {},
   "outputs": [
    {
     "ename": "KeyboardInterrupt",
     "evalue": "",
     "output_type": "error",
     "traceback": [
      "\u001b[0;31m---------------------------------------------------------------------------\u001b[0m",
      "\u001b[0;31mKeyboardInterrupt\u001b[0m                         Traceback (most recent call last)",
      "\u001b[0;32m~/anaconda3/lib/python3.6/site-packages/ipykernel/kernelbase.py\u001b[0m in \u001b[0;36m_input_request\u001b[0;34m(self, prompt, ident, parent, password)\u001b[0m\n\u001b[1;32m    728\u001b[0m             \u001b[0;32mtry\u001b[0m\u001b[0;34m:\u001b[0m\u001b[0;34m\u001b[0m\u001b[0m\n\u001b[0;32m--> 729\u001b[0;31m                 \u001b[0mident\u001b[0m\u001b[0;34m,\u001b[0m \u001b[0mreply\u001b[0m \u001b[0;34m=\u001b[0m \u001b[0mself\u001b[0m\u001b[0;34m.\u001b[0m\u001b[0msession\u001b[0m\u001b[0;34m.\u001b[0m\u001b[0mrecv\u001b[0m\u001b[0;34m(\u001b[0m\u001b[0mself\u001b[0m\u001b[0;34m.\u001b[0m\u001b[0mstdin_socket\u001b[0m\u001b[0;34m,\u001b[0m \u001b[0;36m0\u001b[0m\u001b[0;34m)\u001b[0m\u001b[0;34m\u001b[0m\u001b[0m\n\u001b[0m\u001b[1;32m    730\u001b[0m             \u001b[0;32mexcept\u001b[0m \u001b[0mException\u001b[0m\u001b[0;34m:\u001b[0m\u001b[0;34m\u001b[0m\u001b[0m\n",
      "\u001b[0;32m~/anaconda3/lib/python3.6/site-packages/jupyter_client/session.py\u001b[0m in \u001b[0;36mrecv\u001b[0;34m(self, socket, mode, content, copy)\u001b[0m\n\u001b[1;32m    802\u001b[0m         \u001b[0;32mtry\u001b[0m\u001b[0;34m:\u001b[0m\u001b[0;34m\u001b[0m\u001b[0m\n\u001b[0;32m--> 803\u001b[0;31m             \u001b[0mmsg_list\u001b[0m \u001b[0;34m=\u001b[0m \u001b[0msocket\u001b[0m\u001b[0;34m.\u001b[0m\u001b[0mrecv_multipart\u001b[0m\u001b[0;34m(\u001b[0m\u001b[0mmode\u001b[0m\u001b[0;34m,\u001b[0m \u001b[0mcopy\u001b[0m\u001b[0;34m=\u001b[0m\u001b[0mcopy\u001b[0m\u001b[0;34m)\u001b[0m\u001b[0;34m\u001b[0m\u001b[0m\n\u001b[0m\u001b[1;32m    804\u001b[0m         \u001b[0;32mexcept\u001b[0m \u001b[0mzmq\u001b[0m\u001b[0;34m.\u001b[0m\u001b[0mZMQError\u001b[0m \u001b[0;32mas\u001b[0m \u001b[0me\u001b[0m\u001b[0;34m:\u001b[0m\u001b[0;34m\u001b[0m\u001b[0m\n",
      "\u001b[0;32m~/anaconda3/lib/python3.6/site-packages/zmq/sugar/socket.py\u001b[0m in \u001b[0;36mrecv_multipart\u001b[0;34m(self, flags, copy, track)\u001b[0m\n\u001b[1;32m    394\u001b[0m         \"\"\"\n\u001b[0;32m--> 395\u001b[0;31m         \u001b[0mparts\u001b[0m \u001b[0;34m=\u001b[0m \u001b[0;34m[\u001b[0m\u001b[0mself\u001b[0m\u001b[0;34m.\u001b[0m\u001b[0mrecv\u001b[0m\u001b[0;34m(\u001b[0m\u001b[0mflags\u001b[0m\u001b[0;34m,\u001b[0m \u001b[0mcopy\u001b[0m\u001b[0;34m=\u001b[0m\u001b[0mcopy\u001b[0m\u001b[0;34m,\u001b[0m \u001b[0mtrack\u001b[0m\u001b[0;34m=\u001b[0m\u001b[0mtrack\u001b[0m\u001b[0;34m)\u001b[0m\u001b[0;34m]\u001b[0m\u001b[0;34m\u001b[0m\u001b[0m\n\u001b[0m\u001b[1;32m    396\u001b[0m         \u001b[0;31m# have first part already, only loop while more to receive\u001b[0m\u001b[0;34m\u001b[0m\u001b[0;34m\u001b[0m\u001b[0m\n",
      "\u001b[0;32mzmq/backend/cython/socket.pyx\u001b[0m in \u001b[0;36mzmq.backend.cython.socket.Socket.recv\u001b[0;34m()\u001b[0m\n",
      "\u001b[0;32mzmq/backend/cython/socket.pyx\u001b[0m in \u001b[0;36mzmq.backend.cython.socket.Socket.recv\u001b[0;34m()\u001b[0m\n",
      "\u001b[0;32mzmq/backend/cython/socket.pyx\u001b[0m in \u001b[0;36mzmq.backend.cython.socket._recv_copy\u001b[0;34m()\u001b[0m\n",
      "\u001b[0;32m~/anaconda3/lib/python3.6/site-packages/zmq/backend/cython/checkrc.pxd\u001b[0m in \u001b[0;36mzmq.backend.cython.checkrc._check_rc\u001b[0;34m()\u001b[0m\n",
      "\u001b[0;31mKeyboardInterrupt\u001b[0m: ",
      "\nDuring handling of the above exception, another exception occurred:\n",
      "\u001b[0;31mKeyboardInterrupt\u001b[0m                         Traceback (most recent call last)",
      "\u001b[0;32m<ipython-input-5-1bd571b9fb3e>\u001b[0m in \u001b[0;36m<module>\u001b[0;34m()\u001b[0m\n\u001b[1;32m      1\u001b[0m \u001b[0;32mimport\u001b[0m \u001b[0mre\u001b[0m\u001b[0;34m\u001b[0m\u001b[0m\n\u001b[1;32m      2\u001b[0m \u001b[0;32mwhile\u001b[0m \u001b[0;32mTrue\u001b[0m\u001b[0;34m:\u001b[0m\u001b[0;34m\u001b[0m\u001b[0m\n\u001b[0;32m----> 3\u001b[0;31m     \u001b[0mmail\u001b[0m \u001b[0;34m=\u001b[0m \u001b[0minput\u001b[0m\u001b[0;34m(\u001b[0m\u001b[0;34m'Entrez votre adresse mail : '\u001b[0m\u001b[0;34m)\u001b[0m\u001b[0;34m\u001b[0m\u001b[0m\n\u001b[0m\u001b[1;32m      4\u001b[0m     \u001b[0;32mif\u001b[0m \u001b[0;34m(\u001b[0m\u001b[0mre\u001b[0m\u001b[0;34m.\u001b[0m\u001b[0mmatch\u001b[0m\u001b[0;34m(\u001b[0m\u001b[0;34mr\"[a-zA-Z0-9-_.]+@[a-zA-Z0-9-_]+\\.[a-zA-Z]{2,4}$\"\u001b[0m\u001b[0;34m,\u001b[0m \u001b[0mmail\u001b[0m\u001b[0;34m)\u001b[0m\u001b[0;34m)\u001b[0m\u001b[0;34m:\u001b[0m\u001b[0;34m\u001b[0m\u001b[0m\n\u001b[1;32m      5\u001b[0m         \u001b[0mprint\u001b[0m\u001b[0;34m(\u001b[0m\u001b[0;34m\"Adresse mail validée = {}\"\u001b[0m\u001b[0;34m.\u001b[0m\u001b[0mformat\u001b[0m\u001b[0;34m(\u001b[0m\u001b[0mmail\u001b[0m\u001b[0;34m)\u001b[0m\u001b[0;34m)\u001b[0m\u001b[0;34m\u001b[0m\u001b[0m\n",
      "\u001b[0;32m~/anaconda3/lib/python3.6/site-packages/ipykernel/kernelbase.py\u001b[0m in \u001b[0;36mraw_input\u001b[0;34m(self, prompt)\u001b[0m\n\u001b[1;32m    702\u001b[0m             \u001b[0mself\u001b[0m\u001b[0;34m.\u001b[0m\u001b[0m_parent_ident\u001b[0m\u001b[0;34m,\u001b[0m\u001b[0;34m\u001b[0m\u001b[0m\n\u001b[1;32m    703\u001b[0m             \u001b[0mself\u001b[0m\u001b[0;34m.\u001b[0m\u001b[0m_parent_header\u001b[0m\u001b[0;34m,\u001b[0m\u001b[0;34m\u001b[0m\u001b[0m\n\u001b[0;32m--> 704\u001b[0;31m             \u001b[0mpassword\u001b[0m\u001b[0;34m=\u001b[0m\u001b[0;32mFalse\u001b[0m\u001b[0;34m,\u001b[0m\u001b[0;34m\u001b[0m\u001b[0m\n\u001b[0m\u001b[1;32m    705\u001b[0m         )\n\u001b[1;32m    706\u001b[0m \u001b[0;34m\u001b[0m\u001b[0m\n",
      "\u001b[0;32m~/anaconda3/lib/python3.6/site-packages/ipykernel/kernelbase.py\u001b[0m in \u001b[0;36m_input_request\u001b[0;34m(self, prompt, ident, parent, password)\u001b[0m\n\u001b[1;32m    732\u001b[0m             \u001b[0;32mexcept\u001b[0m \u001b[0mKeyboardInterrupt\u001b[0m\u001b[0;34m:\u001b[0m\u001b[0;34m\u001b[0m\u001b[0m\n\u001b[1;32m    733\u001b[0m                 \u001b[0;31m# re-raise KeyboardInterrupt, to truncate traceback\u001b[0m\u001b[0;34m\u001b[0m\u001b[0;34m\u001b[0m\u001b[0m\n\u001b[0;32m--> 734\u001b[0;31m                 \u001b[0;32mraise\u001b[0m \u001b[0mKeyboardInterrupt\u001b[0m\u001b[0;34m\u001b[0m\u001b[0m\n\u001b[0m\u001b[1;32m    735\u001b[0m             \u001b[0;32melse\u001b[0m\u001b[0;34m:\u001b[0m\u001b[0;34m\u001b[0m\u001b[0m\n\u001b[1;32m    736\u001b[0m                 \u001b[0;32mbreak\u001b[0m\u001b[0;34m\u001b[0m\u001b[0m\n",
      "\u001b[0;31mKeyboardInterrupt\u001b[0m: "
     ]
    }
   ],
   "source": [
    "import re\n",
    "while True:  \n",
    "    mail = input('Entrez votre adresse mail : ')\n",
    "    if (re.match(r\"[a-zA-Z0-9-_.]+@[a-zA-Z0-9-_]+\\.[a-zA-Z]{2,4}$\", mail)):\n",
    "        print(\"Adresse mail validée = {}\".format(mail))\n",
    "        print(re.split('@', mail))"
   ]
  },
  {
   "cell_type": "markdown",
   "metadata": {},
   "source": [
    "- **Q : Fournir la Regex pour ?**  \n",
    "   - Un entier positif :  \n",
    "       - sans limite sur sa taille.\n",
    "       - de taille 10 au max.\n",
    "       - de taille 5 fixe.\n",
    "   - Un entier relatif (négatif) :\n",
    "       - sans limite sur sa taille.\n",
    "       - de taille 10 au max.\n",
    "       - de taille 5 fixe.\n",
    "   - Un entier (positif ou négatif)\n",
    "       - sans limite sur sa taille.\n",
    "       - de taille 10 au max.\n",
    "       - de taille 5 fixe.\n",
    "   - Un nombre :\n",
    "       - positif ou négatif avec ou sans des chiffres après la virgule.\n",
    "       - positif ou négatif avec 2 chiffres après la virgule.\n",
    "           - Les deux dernières Q : le faire aussi pr la notation américaine (le point fait office de la virgule)."
   ]
  },
  {
   "cell_type": "code",
   "execution_count": null,
   "metadata": {},
   "outputs": [],
   "source": [
    "NBR= input('nombre: ')\n",
    "regexP= re.match(r'^\\d{10}', NBR)\n",
    "regex"
   ]
  },
  {
   "cell_type": "code",
   "execution_count": null,
   "metadata": {},
   "outputs": [],
   "source": [
    "regexN= (r'^\\-?\\d{0,10}')"
   ]
  },
  {
   "cell_type": "code",
   "execution_count": null,
   "metadata": {},
   "outputs": [],
   "source": [
    "regexNP=(r'^\\-?\\d*|\\d*$')"
   ]
  },
  {
   "cell_type": "code",
   "execution_count": null,
   "metadata": {},
   "outputs": [],
   "source": []
  },
  {
   "cell_type": "markdown",
   "metadata": {},
   "source": [
    "A supprimer (du notebook sans correc)\n",
    "- S : Un apprenant qui se prends la tête : il ne souhaite pas passer par regex (consulter le pavé de code qu'il écrit https://codereview.stackexchange.com/questions/165187/password-checker-in-python). \n",
    "- S : Le vrai process de validation de mails (https://www.scottbrady91.com/Email-Verification/Python-Email-Verification-Script\n",
    "vs avez construit 50% du process, il reste à valider le nom de domaine mais ce n'est pas notre 'domaine'). "
   ]
  },
  {
   "cell_type": "markdown",
   "metadata": {},
   "source": [
    "- Réecrire le script où vs tenez du nouveau format de mdp et où vs indiquez au User le niveau de sécurité corresp à son mdp : \n",
    "\n",
    "    - Niveau faible : exactement 6 caractères. \n",
    "    - Niveau faible : Que des lettres (miniscules ou majuscules) peu importe leur nombre\n",
    "    - Niveau elevé : plus de 6 caractères et mélange de\n",
    "    - Interdit : Une suite consécutive de chiffre : ex, 123456."
   ]
  },
  {
   "cell_type": "code",
   "execution_count": null,
   "metadata": {},
   "outputs": [],
   "source": []
  },
  {
   "cell_type": "markdown",
   "metadata": {},
   "source": [
    "***\n",
    "### Du Regex vers une liste vers un dico\n",
    "#### autonomus_reading_text_and_processing = 'Durant a 15 ans et Dupont a 19 ans. Mickeal a 20 et Jessica a 22 ans'.  \n",
    "**Q : Extraire les noms des individus et leur age en (utilisant évidemment le module re) et stocker tt ds 1dictionnaire ?**  \n",
    "Sortie souhaitée : \n",
    "dico = {'Durant' : 15, 'Dupont' : 19, 'Mickeal' : 20, 'Jessica' : 22}"
   ]
  },
  {
   "cell_type": "code",
   "execution_count": 10,
   "metadata": {},
   "outputs": [
    {
     "name": "stdout",
     "output_type": "stream",
     "text": [
      "{'Durant': '15', 'Dupont': '19', 'Mickeal': '20', 'Jessica': '22'}\n"
     ]
    }
   ],
   "source": [
    "import re\n",
    "sentence=  'Durant a 15 ans et Dupont a 19 ans. Mickeal a 20 et Jessica a 22 ans'\n",
    "listname= re.findall(r\"[A-Z]{1}\\w*\", sentence)\n",
    "listage= re.findall(r\"[0-9]{2}\", sentence)\n",
    "dico={}\n",
    "j=0\n",
    "for name in listname:\n",
    "    dico[name] =listage[j]\n",
    "    j+=1\n",
    "    \n",
    "print(dico)"
   ]
  },
  {
   "cell_type": "markdown",
   "metadata": {},
   "source": [
    "***\n",
    "### Du regex vers un dico (TODO vers 1json à partir d'1 fichier de texte )\n",
    "**Q : On se donne comme 1è obj d'extraire des dates historiques.**  \n",
    "- Exemple : \n",
    "    - expression = 'Bastille le 14 juillet 1789'\n",
    "    - Ce qui donnera : '14 juillet 1789'\n",
    "    \n",
    "**Q : On souhaite comme 2è obj d'affiner l'affichage du résultat ?**    \n",
    "- Exemple : \n",
    "    - date_histo = '14 juillet 1789'\n",
    "    - Ce qui donnera : dico = {'jour' : '14', 'mois' : 'juillet', 'annee' : '1789'}  \n",
    "    \n",
    "*- Pr la construction du dico, utiliser spécifiquement les méthodes du module re (càd, ne pas initialiser un dico vide et le   remplir).*  \n",
    "*- Indices : Qu'est-ce qu'un motif nominatif (Named Capturing Group)? \n",
    "Aussi, aller sur https://pythex.org/, cliquer sur 'test the example' et inspirer vs de la syntaxe de la regex fournie.*    \n",
    "\n",
    "**Q : Extraire à partir du dico le jour et le mois (Tjrs à l'aide les méthodes du module re et non à l'aide des méthodes spécifiques des dico) ?**   \n",
    "\n"
   ]
  },
  {
   "cell_type": "code",
   "execution_count": 74,
   "metadata": {
    "scrolled": true
   },
   "outputs": [
    {
     "name": "stdout",
     "output_type": "stream",
     "text": [
      "[('14', 'juillet', '1789')]\n"
     ]
    }
   ],
   "source": [
    "import re\n",
    "corpus= 'Bastille le 14 juillet 1789'\n",
    "print(re.findall(r\"(?P<jour>\\d{2}) (?P<mois>\\w+) (?P<annee>\\d{4})\",corpus))\n",
    "\n"
   ]
  },
  {
   "cell_type": "code",
   "execution_count": 22,
   "metadata": {},
   "outputs": [
    {
     "name": "stdout",
     "output_type": "stream",
     "text": [
      "{'jour': '14', 'mois': 'juillet', 'annee': '1789'}\n"
     ]
    }
   ],
   "source": [
    "import re\n",
    "corpus= 'Bastille le 14 juillet 1789'\n",
    "dg= re.compile(r\"(?P<jour>\\d{2}) (?P<mois>\\w+) (?P<annee>\\d{4})\")\n",
    "dico= dg.search(corpus)\n",
    "print(dico.groupdict())\n",
    "#[item.groupdict() for item in dg.finditer(corpus)]\n",
    "    "
   ]
  },
  {
   "cell_type": "markdown",
   "metadata": {},
   "source": [
    "**Q : Alex a posé une Q concernant la fonc qui convertit le camelCase en snake_case, étudier la regex utilisée ?**   "
   ]
  },
  {
   "cell_type": "markdown",
   "metadata": {},
   "source": [
    "**Q : Trouver tous les mots en -ism ?**  \n",
    "   - text = 'Capitalism, Communism, Neorealism, Liberalism'"
   ]
  },
  {
   "cell_type": "code",
   "execution_count": 47,
   "metadata": {},
   "outputs": [
    {
     "name": "stdout",
     "output_type": "stream",
     "text": [
      "['Capitalism', 'Communism', 'Neorealism', 'Liberalism']\n"
     ]
    }
   ],
   "source": [
    "corpusss= 'Capitalism, Communism, Neorealism, Liberalism'\n",
    "s= re.findall(r'[a-zA-Z]+ism',corpusss)\n",
    "print(s)"
   ]
  },
  {
   "cell_type": "code",
   "execution_count": null,
   "metadata": {},
   "outputs": [],
   "source": []
  },
  {
   "cell_type": "code",
   "execution_count": 37,
   "metadata": {},
   "outputs": [
    {
     "name": "stdout",
     "output_type": "stream",
     "text": [
      "None\n"
     ]
    }
   ],
   "source": []
  },
  {
   "cell_type": "markdown",
   "metadata": {},
   "source": [
    "**Q : Trouver tt les \\$ (et les supp) ?**  \n",
    "   - text = '$100'"
   ]
  },
  {
   "cell_type": "code",
   "execution_count": 59,
   "metadata": {},
   "outputs": [
    {
     "name": "stdout",
     "output_type": "stream",
     "text": [
      "['$']\n"
     ]
    },
    {
     "data": {
      "text/plain": [
       "'100'"
      ]
     },
     "execution_count": 59,
     "metadata": {},
     "output_type": "execute_result"
    }
   ],
   "source": [
    "corp='$100'\n",
    "OM= re.findall(r'[$]',corp)\n",
    "print(OM.remove('$'))\n",
    "test =re.sub(r'[$]', '', corp)\n",
    "test"
   ]
  },
  {
   "cell_type": "markdown",
   "metadata": {},
   "source": [
    "**L'équivalent de Ctrl-F ?** \n",
    "    - Vs cherchez un mot ds 1 texte, vs taper ds Word Office Ctrl-F et vs saisissez le mot à trouver. Et ça fonctionne.\n",
    "    - **Q : On le fait avec une regex ! Trouver exactement le mot 'The' ds le texte suivant ?**   \n",
    "         - text = 'The quick brown fox jumped over the lazy brown bear.'\n",
    "    - Sauf que ds Word ça marche pour une seule recherche (vs deveriez recommencer : *un autre mot = une nouvelle recherche*)\n",
    "    - Avec les regex, c'est possible de rechercher plusieurs mots à la fois.\n",
    "       \n",
    "        - **Q : Chercher si text contient soit 'fox' soit 'snake' soit 'bear' (1 seule ligne de code)**"
   ]
  },
  {
   "cell_type": "code",
   "execution_count": 95,
   "metadata": {},
   "outputs": [
    {
     "name": "stdout",
     "output_type": "stream",
     "text": [
      "['The']\n"
     ]
    }
   ],
   "source": [
    "corpus= 'The quick brown fox jumped over the lazy brown bear.'\n",
    "regex= re.findall(r'^[T]\\w+',corpus)\n",
    "print(regex)\n",
    "\n",
    "    "
   ]
  },
  {
   "cell_type": "code",
   "execution_count": 109,
   "metadata": {},
   "outputs": [
    {
     "name": "stdout",
     "output_type": "stream",
     "text": [
      "['fox', 'bear']\n"
     ]
    }
   ],
   "source": [
    "texte= 'The quick brown fox jumped over the lazy brown bear.'\n",
    "reg= re.findall(r'(bear|snake|fox)',texte)\n",
    "print(reg)\n"
   ]
  },
  {
   "cell_type": "markdown",
   "metadata": {},
   "source": [
    "**Q : Supposons que ds l'ex suivant que vs vs intéressez à réccupérer tous les mots dont la taille est exactement de 3 caractères ?**  \n",
    "   - text = 'The quick brown fox jumped over the lazy brown bear.'\n",
    "- **Q : Trouver ts les mots qui commencennt par un T et suivi exactement de 2 caractères ?**  \n",
    "   - text = 'The quick brown fox jumped over the lazy brown bear.'"
   ]
  },
  {
   "cell_type": "code",
   "execution_count": 115,
   "metadata": {},
   "outputs": [
    {
     "name": "stdout",
     "output_type": "stream",
     "text": [
      "['The']\n"
     ]
    }
   ],
   "source": [
    "text='The quick brown fox jumped over the lazy brown bear.'\n",
    "regex= re.findall(r'^[T]\\w{2}',text)\n",
    "print(regex)"
   ]
  },
  {
   "cell_type": "markdown",
   "metadata": {},
   "source": [
    "**Q : Extraire les dates d'anniversaire (dans une liste) ?**  \n",
    "   - date_birthday = 'My birthday is 09/15/1983. My brother\\'s birthday is 01/01/01. My other two brothers have birthdays of 9/3/2001 and 09/1/83.'\n",
    "   - Résultat = ['09/15/1983', '01/01/01', '9/3/2001', '09/1/83']\n",
    "- **Q : TODO : Transformer la date numérique en date iso ?**"
   ]
  },
  {
   "cell_type": "code",
   "execution_count": 121,
   "metadata": {},
   "outputs": [
    {
     "name": "stdout",
     "output_type": "stream",
     "text": [
      "['09/15/1983', '01/01/01', '9/3/2001', '09/1/83']\n"
     ]
    }
   ],
   "source": [
    "birthday='My birthday is 09/15/1983. My brother\\'s birthday is 01/01/01. My other two brothers have birthdays of 9/3/2001 and 09/1/83.'\n",
    "regex= re.findall(r'\\d{1,2}[/]\\d{1,2}[/]\\d{2,4}',birthday)\n",
    "print(regex)"
   ]
  },
  {
   "cell_type": "markdown",
   "metadata": {},
   "source": [
    "## Les autres formats de date \n",
    "**En manipulant le format date avec Pandas, vs vs êtes rendu compte qu'il existe plusieurs format date !**  \n",
    "**Q : Après avoir définit qu'est-ce qu'un *\"ISO date\"*, un* \"ISO date with separators\"*,* \"United States date format\"*,* \"Hours and minutes, 24 hours format\"*, Ecrire, les regex correspondants à ces formats de date ?**"
   ]
  },
  {
   "cell_type": "code",
   "execution_count": null,
   "metadata": {},
   "outputs": [],
   "source": [
    "# ISO date format (yyyy-mm-dd)\n",
    "# ISO date format (yyyy-mm-dd) with separators '-' or '/' or '.' or ' '\n",
    "#United States date format (mm/dd/yyyy)\n",
    "#Hours and minutes, 24 hours format (HH:MM):"
   ]
  },
  {
   "cell_type": "code",
   "execution_count": null,
   "metadata": {},
   "outputs": [],
   "source": [
    "regex1= (r'^(\\d{4})\\-([1-9]|0[1-9]|1[0-2]{1,2})\\-(0[1-9]|1[0-9]|2[0-9]|3[0-1]|[1-9]{1,2})$')"
   ]
  },
  {
   "cell_type": "code",
   "execution_count": null,
   "metadata": {},
   "outputs": [],
   "source": [
    "regex1= (r'^(\\d{4})\\[-]\\([1-9]|0[1-9]|1[0-2])({1,2}\\[-]\\d{2})')\n",
    "regex2= (r'^\\d{4}\\[-./' ']\\\\d{2}\\[-./' ']\\d{2}')\n",
    "regex3= (r'^\\d{2}\\[/]\\\\d{2}\\[/]\\d{4}')\n",
    "regex4= (r'^\\d{2}\\[:]\\\\d{2}')"
   ]
  },
  {
   "cell_type": "markdown",
   "metadata": {},
   "source": [
    "***\n",
    "## Du regex dans un DataFrame\n",
    "- **Q : Transformer ce dico en df ?**    \n",
    "\n",
    "dico = {'col_brute': ['Paris 1 2014-12-23       3242.0',\n",
    "   'Nantes 1 2010-02-23       3453.7',\n",
    "               'Marseille 0 2014-06-20       2123.0',\n",
    "               'Toulouse 0 2014-03-14       1123.6',\n",
    "               'Nice 1 2013-01-15       2134.0',\n",
    "               'Lyon 0 2012-07-14       2345.6']}  \n",
    "- La col brute contient en réalité les info qui concerne 4 cols : Par ex,\n",
    "   - La 1è col : ville (\"Paris\", \"Marseille\")                \n",
    "   - La 2è col : sexe (1 : homme, 0 : femme)\n",
    "   - La 3è col : date (2014-12-23)\n",
    "   - La 4è col : score (3242.0)\n",
    "\n",
    "- **Q : Sauf que ça a été très mal formaté ! A l'aide des regex, extraire les cols correspondantes et render un df propre ?**"
   ]
  },
  {
   "cell_type": "code",
   "execution_count": 4,
   "metadata": {},
   "outputs": [
    {
     "data": {
      "text/html": [
       "<div>\n",
       "<style scoped>\n",
       "    .dataframe tbody tr th:only-of-type {\n",
       "        vertical-align: middle;\n",
       "    }\n",
       "\n",
       "    .dataframe tbody tr th {\n",
       "        vertical-align: top;\n",
       "    }\n",
       "\n",
       "    .dataframe thead th {\n",
       "        text-align: right;\n",
       "    }\n",
       "</style>\n",
       "<table border=\"1\" class=\"dataframe\">\n",
       "  <thead>\n",
       "    <tr style=\"text-align: right;\">\n",
       "      <th></th>\n",
       "      <th>col_brute</th>\n",
       "    </tr>\n",
       "  </thead>\n",
       "  <tbody>\n",
       "    <tr>\n",
       "      <th>0</th>\n",
       "      <td>Paris 1 2014-12-23 3242.0</td>\n",
       "    </tr>\n",
       "    <tr>\n",
       "      <th>1</th>\n",
       "      <td>Nantes 1 2010-02-23 3453.7</td>\n",
       "    </tr>\n",
       "    <tr>\n",
       "      <th>2</th>\n",
       "      <td>Marseille 0 2014-06-20 2123.0</td>\n",
       "    </tr>\n",
       "    <tr>\n",
       "      <th>3</th>\n",
       "      <td>Toulouse 0 2014-03-14 1123.6</td>\n",
       "    </tr>\n",
       "    <tr>\n",
       "      <th>4</th>\n",
       "      <td>Nice 1 2013-01-15 2134.0</td>\n",
       "    </tr>\n",
       "    <tr>\n",
       "      <th>5</th>\n",
       "      <td>Lyon 0 2012-07-14 2345.6</td>\n",
       "    </tr>\n",
       "  </tbody>\n",
       "</table>\n",
       "</div>"
      ],
      "text/plain": [
       "                       col_brute\n",
       "0      Paris 1 2014-12-23 3242.0\n",
       "1     Nantes 1 2010-02-23 3453.7\n",
       "2  Marseille 0 2014-06-20 2123.0\n",
       "3   Toulouse 0 2014-03-14 1123.6\n",
       "4       Nice 1 2013-01-15 2134.0\n",
       "5       Lyon 0 2012-07-14 2345.6"
      ]
     },
     "execution_count": 4,
     "metadata": {},
     "output_type": "execute_result"
    }
   ],
   "source": [
    "dico = {'col_brute': ['Paris 1 2014-12-23 3242.0', 'Nantes 1 2010-02-23 3453.7', 'Marseille 0 2014-06-20 2123.0', 'Toulouse 0 2014-03-14 1123.6', 'Nice 1 2013-01-15 2134.0', 'Lyon 0 2012-07-14 2345.6']}\n",
    "df= pd.DataFrame(dico)\n",
    "df\n"
   ]
  },
  {
   "cell_type": "code",
   "execution_count": 13,
   "metadata": {},
   "outputs": [
    {
     "data": {
      "text/plain": [
       "0    1\n",
       "1    1\n",
       "2    0\n",
       "3    0\n",
       "4    1\n",
       "5    0\n",
       "Name: sexe, dtype: object"
      ]
     },
     "execution_count": 13,
     "metadata": {},
     "output_type": "execute_result"
    }
   ],
   "source": [
    "df['sexe']= df ['col_brute'].str.extract('(\\d)', expand=True)\n",
    "df.sexe"
   ]
  },
  {
   "cell_type": "code",
   "execution_count": 10,
   "metadata": {},
   "outputs": [
    {
     "data": {
      "text/plain": [
       "0        Paris\n",
       "1       Nantes\n",
       "2    Marseille\n",
       "3     Toulouse\n",
       "4         Nice\n",
       "5         Lyon\n",
       "Name: ville, dtype: object"
      ]
     },
     "execution_count": 10,
     "metadata": {},
     "output_type": "execute_result"
    }
   ],
   "source": [
    "df['ville']= df ['col_brute'].str.extract('(\\w+)', expand=True)\n",
    "df.ville\n"
   ]
  },
  {
   "cell_type": "code",
   "execution_count": 15,
   "metadata": {},
   "outputs": [
    {
     "data": {
      "text/plain": [
       "0    2014-12-23\n",
       "1    2010-02-23\n",
       "2    2014-06-20\n",
       "3    2014-03-14\n",
       "4    2013-01-15\n",
       "5    2012-07-14\n",
       "Name: date, dtype: object"
      ]
     },
     "execution_count": 15,
     "metadata": {},
     "output_type": "execute_result"
    }
   ],
   "source": [
    "df['date']= df ['col_brute'].str.extract('(\\d{4}[-]\\d{2}[-]\\d{2})', expand=True)\n",
    "df.date"
   ]
  },
  {
   "cell_type": "code",
   "execution_count": 16,
   "metadata": {},
   "outputs": [
    {
     "data": {
      "text/plain": [
       "0    3242.0\n",
       "1    3453.7\n",
       "2    2123.0\n",
       "3    1123.6\n",
       "4    2134.0\n",
       "5    2345.6\n",
       "Name: score, dtype: object"
      ]
     },
     "execution_count": 16,
     "metadata": {},
     "output_type": "execute_result"
    }
   ],
   "source": [
    "df['score']= df ['col_brute'].str.extract('(\\d{4}[.]\\d{1})', expand=True)\n",
    "df.score"
   ]
  },
  {
   "cell_type": "code",
   "execution_count": 17,
   "metadata": {},
   "outputs": [
    {
     "data": {
      "text/html": [
       "<div>\n",
       "<style scoped>\n",
       "    .dataframe tbody tr th:only-of-type {\n",
       "        vertical-align: middle;\n",
       "    }\n",
       "\n",
       "    .dataframe tbody tr th {\n",
       "        vertical-align: top;\n",
       "    }\n",
       "\n",
       "    .dataframe thead th {\n",
       "        text-align: right;\n",
       "    }\n",
       "</style>\n",
       "<table border=\"1\" class=\"dataframe\">\n",
       "  <thead>\n",
       "    <tr style=\"text-align: right;\">\n",
       "      <th></th>\n",
       "      <th>col_brute</th>\n",
       "      <th>ville</th>\n",
       "      <th>sexe</th>\n",
       "      <th>date</th>\n",
       "      <th>score</th>\n",
       "    </tr>\n",
       "  </thead>\n",
       "  <tbody>\n",
       "    <tr>\n",
       "      <th>0</th>\n",
       "      <td>Paris 1 2014-12-23 3242.0</td>\n",
       "      <td>Paris</td>\n",
       "      <td>1</td>\n",
       "      <td>2014-12-23</td>\n",
       "      <td>3242.0</td>\n",
       "    </tr>\n",
       "    <tr>\n",
       "      <th>1</th>\n",
       "      <td>Nantes 1 2010-02-23 3453.7</td>\n",
       "      <td>Nantes</td>\n",
       "      <td>1</td>\n",
       "      <td>2010-02-23</td>\n",
       "      <td>3453.7</td>\n",
       "    </tr>\n",
       "    <tr>\n",
       "      <th>2</th>\n",
       "      <td>Marseille 0 2014-06-20 2123.0</td>\n",
       "      <td>Marseille</td>\n",
       "      <td>0</td>\n",
       "      <td>2014-06-20</td>\n",
       "      <td>2123.0</td>\n",
       "    </tr>\n",
       "    <tr>\n",
       "      <th>3</th>\n",
       "      <td>Toulouse 0 2014-03-14 1123.6</td>\n",
       "      <td>Toulouse</td>\n",
       "      <td>0</td>\n",
       "      <td>2014-03-14</td>\n",
       "      <td>1123.6</td>\n",
       "    </tr>\n",
       "    <tr>\n",
       "      <th>4</th>\n",
       "      <td>Nice 1 2013-01-15 2134.0</td>\n",
       "      <td>Nice</td>\n",
       "      <td>1</td>\n",
       "      <td>2013-01-15</td>\n",
       "      <td>2134.0</td>\n",
       "    </tr>\n",
       "    <tr>\n",
       "      <th>5</th>\n",
       "      <td>Lyon 0 2012-07-14 2345.6</td>\n",
       "      <td>Lyon</td>\n",
       "      <td>0</td>\n",
       "      <td>2012-07-14</td>\n",
       "      <td>2345.6</td>\n",
       "    </tr>\n",
       "  </tbody>\n",
       "</table>\n",
       "</div>"
      ],
      "text/plain": [
       "                       col_brute      ville sexe        date   score\n",
       "0      Paris 1 2014-12-23 3242.0      Paris    1  2014-12-23  3242.0\n",
       "1     Nantes 1 2010-02-23 3453.7     Nantes    1  2010-02-23  3453.7\n",
       "2  Marseille 0 2014-06-20 2123.0  Marseille    0  2014-06-20  2123.0\n",
       "3   Toulouse 0 2014-03-14 1123.6   Toulouse    0  2014-03-14  1123.6\n",
       "4       Nice 1 2013-01-15 2134.0       Nice    1  2013-01-15  2134.0\n",
       "5       Lyon 0 2012-07-14 2345.6       Lyon    0  2012-07-14  2345.6"
      ]
     },
     "execution_count": 17,
     "metadata": {},
     "output_type": "execute_result"
    }
   ],
   "source": [
    "df"
   ]
  },
  {
   "cell_type": "markdown",
   "metadata": {},
   "source": [
    "### Regex applicable sur plusieurs fichiers (dossier zippé)  \n",
    "Vs trouvez sur le drive un document 'discours' d'un politicien.  \n",
    "\n",
    "**Q : On souhaite obtenir toutes les séquences de lettres commençant par je ?**    \n",
    "**Q : Rechercher indifféremment le mot securite ou insecurite ?**"
   ]
  },
  {
   "cell_type": "code",
   "execution_count": 6,
   "metadata": {},
   "outputs": [],
   "source": [
    "import zipfile as zf\n",
    "archive = zf.ZipFile('discours_politicien.zip', 'r')\n",
    "#files = [archive.read(name) for name in archive.namelist()]\n",
    "archive.extractall()"
   ]
  },
  {
   "cell_type": "code",
   "execution_count": 7,
   "metadata": {},
   "outputs": [
    {
     "name": "stdout",
     "output_type": "stream",
     "text": [
      "Mes chers compatriotes,\n",
      "\n",
      "Les moments où un peuple se rassemble, respire au même rythme, bat d'un même coeur, sont toujours des moments privilégiés. Les fêtes de Noël et du Nouvel An participent de ces rendez-vous du pays avec lui-même. Pour beaucoup d'entre vous, c'est un temps de joie, de retrouvailles, de chaleur familiale et amicale. Pour certains, parce qu'ils sont seuls, malades ou dans la peine, c'est une période difficile. Et j'ai pour eux ce soir une pensée particulière. Et je pense aussi à nos compatriotes de Toulouse, mais également de la Somme et de l'est de la France, pour qui le souvenir de 2001 restera d'abord celui des épreuves. A chacune et à chacun d'eux, je veux dire, en ce 31 décembre, la solidarité et l'amitié de la nation. Et à vous tous, mes chers compatriotes de métropole, d'Outre-mer, de l'étranger, j'adresse mes voeux très chaleureux de bonne et heureuse année.\n",
      "\n",
      "*\n",
      "\n",
      "Avec l'arrivée de l'euro, nous allons vivre dans quelques heures un moment historique : 300 millions d'Européens partageront désormais la même monnaie. C'est l'Europe qui avance. C'est l'Europe qui progresse.\n",
      "\n",
      "Cette Europe, nous la regardons autrement depuis les terribles événements qui ont touché l'Amérique au coeur le 11 septembre dernier. Dans un monde où les foyers de haine et d'incompréhension sont nombreux, où les inégalités se creusent, où le sentiment d'injustice est si présent, nous mesurons davantage combien il importe que l'Europe s'affirme, qu'elle relaie et amplifie l'action des nations, qu'elle participe en tant que telle aux évolutions du monde.\n",
      "\n",
      "L'euro est une victoire de l'Europe. Après un siècle de déchirements, de guerres, de tâtonnements, voici que, dans la paix, l'unité et la stabilité, notre continent affirme enfin son identité et sa puissance ! Nous pouvons en être fiers, car c'est aussi un succès pour tous les Français, la récompense des efforts qu'ils ont consentis.\n",
      "\n",
      "Bien sûr, il faudra à chacune et à chacun un temps d'adaptation pour trouver ses repères, apprendre les prix, apprivoiser la nouvelle monnaie. Certains éprouveront peut-être des difficultés. En y mettant toute la patience, l'attention et l'entraide nécessaires, vous verrez que les nouvelles habitudes ne tarderont pas à venir.\n",
      "\n",
      "Mais vous le savez bien, il ne s'agit pas seulement de remplacer nos francs par des euros. L'euro, c'est une chance d'avenir supplémentaire pour la France et les Français. Et c'est aussi une nouvelle façon d'être en Europe, de vivre l'Europe, une Europe du quotidien qui doit devenir pleinement celle des citoyens.\n",
      "\n",
      "Dans sa longue histoire, la France a parfois été tentée de se replier sur elle-même. Ensemble, oui ensemble, nous avons voulu au contraire qu'elle aille de l'avant, qu'elle ait confiance en elle, que son horizon s'étende, qu'elle s'ouvre davantage sur le reste du monde.\n",
      "\n",
      "Il y a six ans, au prix d'un effort considérable des Français pour réduire nos déficits publics, nous nous sommes engagés, nous nous sommes mis en situation d'être qualifiés pour l'euro. Chacun sait que ce n'était pas gagné d'avance. Mais nous l'avons fait. Nous y sommes parvenus et ce choix est maintenant définitif. Nous l'avons voulu pour que chaque Français ait toutes les cartes en main pour le XXIème siècle. Nous avons ainsi rempli notre part du contrat européen.\n",
      "\n",
      "Oh, l'euro n'est pas une fin en soi. Il signifiera, pour nous, plus de croissance, plus d'emplois, plus de pouvoir d'achat, plus d'échanges. Une France plus forte. Mais il doit être avant tout un instrument au service de l'Europe des hommes que nous construisons.\n",
      "\n",
      "A nous maintenant d'en tirer parti ! Car si l'euro est une chance, c'est aussi un défi.\n",
      "\n",
      "Nous avons de nombreux atouts pour faire de l'euro un formidable amplificateur d'énergie et de prospérité. Notre modèle économique et social qui allie développement économique et protection solidaire contre les risques de l'existence. La vitalité de nos entreprises. La force de notre agriculture. Notre géographie, au carrefour de toutes les routes européennes. Nos infrastructures, nos services publics, la qualité de nos formations et de notre recherche. Notre langue. Notre culture.\n",
      "\n",
      "Mais pour que l'euro tienne ses promesses, pour qu'il nous permette d'améliorer notre rang et nos positions dans le monde, de grandes réformes de modernisation de la société, de l'économie et de l'Etat devront encore être engagées pour lever les obstacles qui freinent notre progrès. Et j'ai confiance qu'elles le seront. La France est dynamique, courageuse, ambitieuse. Elle a besoin d'abord de se retrouver telle qu'en elle-même pour affirmer ses valeurs, celles de la République, qui fondent nos libertés. Elle a besoin d'un Etat fort, d'une autorité respectée, d'un ordre républicain assumé. Elle a besoin d'unité et de cohésion.\n",
      "\n",
      "La cohésion nationale, c'est l'essentiel. On le voit à chaque fois qu'un drame, une catastrophe, surviennent, et qui provoque chez nous un extraordinaire élan de solidarité. On le voit aussi dans la joie, chaque fois que la France gagne. Ce sentiment de cohésion, d'appartenance à une même communauté, à une même patrie, ne doit pas être un moment d'exception, liée à une émotion particulière, mais le fondement même de notre citoyenneté française. Il est à la source de toute volonté nationale. Il doit se vivre tous les jours. Il est notre force. Il doit être notre exigence.\n",
      "\n",
      "La société française, au fil des décennies, a acquis souffle, vitalité, diversité. Mais dans le bouillonnement français, il y a aussi des doutes, des peurs, des divisions.\n",
      "\n",
      "La cohésion de notre nation exige l'affirmation d'une grande aventure collective, d'un idéal, de rêves, de projets communs. Mais elle exige aussi la juste reconnaissance de la place de chacun, de son travail, de son rôle comme de sa dignité.\n",
      "\n",
      "Cela suppose une société qui valorise tout à la fois le mérite, l'énergie, les talents, la générosité.\n",
      "\n",
      "Si nous devons tous être les artisans de la cohésion nationale, il revient bien sûr à l'Etat d'en être le garant et de servir cette grande ambition.\n",
      "\n",
      "Le premier devoir de l'Etat c'est d'assumer ses responsabilités au service des citoyens. Il doit trouver sa place, remplir ses missions, en respectant les initiatives qui viennent des forces vives de notre société et de nos collectivités territoriales.\n",
      "\n",
      "Il est en charge de la solidarité, une solidarité vigilante qui ne doit oublier personne. Solidarité pour l'emploi et en faveur des plus vulnérables. Solidarité entre les générations par la sauvegarde de nos retraites. Solidarité aussi avec le futur en respectant l'environnement et en garantissant le développement durable de notre planète.\n",
      "\n",
      "L'Etat est aussi en charge de l'égalité républicaine, une égalité menacée quand l'insécurité progresse, quand l'exercice des libertés, la qualité de vie, la qualité des études, dépendent de l'endroit où l'on habite, du collège ou du lycée que l'on fréquente.\n",
      "\n",
      "L'Etat est en charge, enfin, de l'intérêt supérieur de la Nation. Les aspirations légitimes doivent être entendues, mais il n'est pas normal que les lois et les règles soient bafouées au nom d'intérêts particuliers.\n",
      "\n",
      "Mes chers compatriotes,\n",
      "\n",
      "Pour que la France rayonne, pour qu'elle se déploie, pour que chaque Français s'épanouisse dans le monde de demain, nous devons faire le choix de l'Europe, du mouvement et de la fidélité à l'idéal de la République. Le choix d'une ambition française, le choix de l'action.\n",
      "\n",
      "Quelles que soient les épreuves récentes et les incertitudes de l'avenir, je sais que vous voulez faire vivre les valeurs qui sont celles de notre démocratie, de notre République. Que vous voulez conforter notre cohésion nationale. Que vous voulez avancer, réussir et faire réussir la France.\n",
      "\n",
      "A toutes les Françaises, à tous les Français, de métropole, d'Outre-mer et de l'étranger, je souhaite une bonne et heureuse année.\n",
      "\n",
      "Vive la République,\n"
     ]
    }
   ],
   "source": [
    "with open(\"VOEUX01.txt\", \"r\", encoding='latin-1') as f:\n",
    "  for lines in f.readlines():\n",
    "      # Traiter la ligne et ainsi de suite ...\n",
    "      print(lines.strip())"
   ]
  },
  {
   "cell_type": "code",
   "execution_count": null,
   "metadata": {},
   "outputs": [],
   "source": []
  }
 ],
 "metadata": {
  "kernelspec": {
   "display_name": "Python 3",
   "language": "python",
   "name": "python3"
  },
  "language_info": {
   "codemirror_mode": {
    "name": "ipython",
    "version": 3
   },
   "file_extension": ".py",
   "mimetype": "text/x-python",
   "name": "python",
   "nbconvert_exporter": "python",
   "pygments_lexer": "ipython3",
   "version": "3.6.4"
  },
  "varInspector": {
   "cols": {
    "lenName": 16,
    "lenType": 16,
    "lenVar": 40
   },
   "kernels_config": {
    "python": {
     "delete_cmd_postfix": "",
     "delete_cmd_prefix": "del ",
     "library": "var_list.py",
     "varRefreshCmd": "print(var_dic_list())"
    },
    "r": {
     "delete_cmd_postfix": ") ",
     "delete_cmd_prefix": "rm(",
     "library": "var_list.r",
     "varRefreshCmd": "cat(var_dic_list()) "
    }
   },
   "types_to_exclude": [
    "module",
    "function",
    "builtin_function_or_method",
    "instance",
    "_Feature"
   ],
   "window_display": false
  }
 },
 "nbformat": 4,
 "nbformat_minor": 2
}
